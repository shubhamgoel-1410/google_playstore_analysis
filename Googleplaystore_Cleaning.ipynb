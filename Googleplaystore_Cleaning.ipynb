{
 "cells": [
  {
   "cell_type": "code",
   "execution_count": 16,
   "metadata": {},
   "outputs": [],
   "source": [
    "import pandas as pd\n",
    "import matplotlib.pyplot as plt\n",
    "import numpy as np\n",
    "import seaborn as sns\n",
    "import missingno as msno"
   ]
  },
  {
   "cell_type": "markdown",
   "metadata": {},
   "source": [
    "### Information About DataSet"
   ]
  },
  {
   "cell_type": "code",
   "execution_count": 17,
   "metadata": {},
   "outputs": [
    {
     "name": "stdout",
     "output_type": "stream",
     "text": [
      "Columns in Dataset: \n",
      " Index(['App', 'Category', 'Rating', 'Reviews', 'Size', 'Installs', 'Type',\n",
      "       'Price', 'Content Rating', 'Genres', 'Last Updated', 'Current Ver',\n",
      "       'Android Ver'],\n",
      "      dtype='object')\n"
     ]
    }
   ],
   "source": [
    "df=pd.read_csv('googleplaystore.csv')\n",
    "print('Columns in Dataset: \\n',df.columns)"
   ]
  },
  {
   "cell_type": "code",
   "execution_count": 18,
   "metadata": {},
   "outputs": [
    {
     "name": "stdout",
     "output_type": "stream",
     "text": [
      "Shape of dataframe:\t (10841, 13)\n"
     ]
    }
   ],
   "source": [
    "print('Shape of dataframe:\\t',df.shape)"
   ]
  },
  {
   "cell_type": "code",
   "execution_count": 19,
   "metadata": {},
   "outputs": [
    {
     "name": "stdout",
     "output_type": "stream",
     "text": [
      "Statistical analysis of Dataset: \n",
      "            App Category       Rating Reviews                Size    Installs  \\\n",
      "count    10841    10841  9367.000000   10841               10841       10841   \n",
      "unique    9660       34          NaN    6002                 462          22   \n",
      "top     ROBLOX   FAMILY          NaN       0  Varies with device  1,000,000+   \n",
      "freq         9     1972          NaN     596                1695        1579   \n",
      "mean       NaN      NaN     4.193338     NaN                 NaN         NaN   \n",
      "std        NaN      NaN     0.537431     NaN                 NaN         NaN   \n",
      "min        NaN      NaN     1.000000     NaN                 NaN         NaN   \n",
      "25%        NaN      NaN     4.000000     NaN                 NaN         NaN   \n",
      "50%        NaN      NaN     4.300000     NaN                 NaN         NaN   \n",
      "75%        NaN      NaN     4.500000     NaN                 NaN         NaN   \n",
      "max        NaN      NaN    19.000000     NaN                 NaN         NaN   \n",
      "\n",
      "         Type  Price Content Rating Genres Last Updated         Current Ver  \\\n",
      "count   10840  10841          10840  10841        10841               10833   \n",
      "unique      3     93              6    120         1378                2784   \n",
      "top      Free      0       Everyone  Tools     3-Aug-18  Varies with device   \n",
      "freq    10039  10040           8714    842          326                1459   \n",
      "mean      NaN    NaN            NaN    NaN          NaN                 NaN   \n",
      "std       NaN    NaN            NaN    NaN          NaN                 NaN   \n",
      "min       NaN    NaN            NaN    NaN          NaN                 NaN   \n",
      "25%       NaN    NaN            NaN    NaN          NaN                 NaN   \n",
      "50%       NaN    NaN            NaN    NaN          NaN                 NaN   \n",
      "75%       NaN    NaN            NaN    NaN          NaN                 NaN   \n",
      "max       NaN    NaN            NaN    NaN          NaN                 NaN   \n",
      "\n",
      "       Android Ver  \n",
      "count        10838  \n",
      "unique          33  \n",
      "top     4.1 and up  \n",
      "freq          2451  \n",
      "mean           NaN  \n",
      "std            NaN  \n",
      "min            NaN  \n",
      "25%            NaN  \n",
      "50%            NaN  \n",
      "75%            NaN  \n",
      "max            NaN  \n"
     ]
    }
   ],
   "source": [
    "print('Statistical analysis of Dataset: \\n',df.describe(include='all'))"
   ]
  },
  {
   "cell_type": "code",
   "execution_count": 20,
   "metadata": {},
   "outputs": [
    {
     "name": "stdout",
     "output_type": "stream",
     "text": [
      "Data Type of columns: \n",
      " App                object\n",
      "Category           object\n",
      "Rating            float64\n",
      "Reviews            object\n",
      "Size               object\n",
      "Installs           object\n",
      "Type               object\n",
      "Price              object\n",
      "Content Rating     object\n",
      "Genres             object\n",
      "Last Updated       object\n",
      "Current Ver        object\n",
      "Android Ver        object\n",
      "dtype: object\n"
     ]
    }
   ],
   "source": [
    "print('Data Type of columns: \\n',df.dtypes)"
   ]
  },
  {
   "cell_type": "code",
   "execution_count": 21,
   "metadata": {},
   "outputs": [
    {
     "name": "stdout",
     "output_type": "stream",
     "text": [
      "<class 'pandas.core.frame.DataFrame'>\n",
      "RangeIndex: 10841 entries, 0 to 10840\n",
      "Data columns (total 13 columns):\n",
      "App               10841 non-null object\n",
      "Category          10841 non-null object\n",
      "Rating            9367 non-null float64\n",
      "Reviews           10841 non-null object\n",
      "Size              10841 non-null object\n",
      "Installs          10841 non-null object\n",
      "Type              10840 non-null object\n",
      "Price             10841 non-null object\n",
      "Content Rating    10840 non-null object\n",
      "Genres            10841 non-null object\n",
      "Last Updated      10841 non-null object\n",
      "Current Ver       10833 non-null object\n",
      "Android Ver       10838 non-null object\n",
      "dtypes: float64(1), object(12)\n",
      "memory usage: 1.1+ MB\n",
      "Information about the dataset :\n",
      " None\n"
     ]
    }
   ],
   "source": [
    "print('Information about the dataset :\\n',df.info())"
   ]
  },
  {
   "cell_type": "code",
   "execution_count": 23,
   "metadata": {},
   "outputs": [
    {
     "data": {
      "image/png": "[encoded data removed]",
      "text/plain": [
       "<Figure size 1800x720 with 2 Axes>"
      ]
     },
     "metadata": {
      "needs_background": "light"
     },
     "output_type": "display_data"
    }
   ],
   "source": [
    "msno.matrix(df)  ;"
   ]
  },
  {
   "cell_type": "markdown",
   "metadata": {},
   "source": [
    "## Cleaning data"
   ]
  },
  {
   "cell_type": "markdown",
   "metadata": {},
   "source": [
    "### Category Column Cleaning"
   ]
  },
  {
   "cell_type": "code",
   "execution_count": 24,
   "metadata": {},
   "outputs": [
    {
     "name": "stdout",
     "output_type": "stream",
     "text": [
      "['ART_AND_DESIGN' 'AUTO_AND_VEHICLES' 'BEAUTY' 'BOOKS_AND_REFERENCE'\n",
      " 'BUSINESS' 'COMICS' 'COMMUNICATION' 'DATING' 'EDUCATION' 'ENTERTAINMENT'\n",
      " 'EVENTS' 'FINANCE' 'FOOD_AND_DRINK' 'HEALTH_AND_FITNESS' 'HOUSE_AND_HOME'\n",
      " 'LIBRARIES_AND_DEMO' 'LIFESTYLE' 'GAME' 'FAMILY' 'MEDICAL' 'SOCIAL'\n",
      " 'SHOPPING' 'PHOTOGRAPHY' 'SPORTS' 'TRAVEL_AND_LOCAL' 'TOOLS'\n",
      " 'PERSONALIZATION' 'PRODUCTIVITY' 'PARENTING' 'WEATHER' 'VIDEO_PLAYERS'\n",
      " 'NEWS_AND_MAGAZINES' 'MAPS_AND_NAVIGATION' '1.9']\n",
      "no. of unwanted rows:\t 1\n"
     ]
    }
   ],
   "source": [
    "print(df.Category.unique())\n",
    "unwanted_category = df[df.Category=='1.9']\n",
    "print('no. of unwanted rows:\\t',len(unwanted_category))\n",
    "df = df.drop(unwanted_category.index)"
   ]
  },
  {
   "cell_type": "markdown",
   "metadata": {},
   "source": [
    "### Rating Column Cleaning"
   ]
  },
  {
   "cell_type": "code",
   "execution_count": 25,
   "metadata": {},
   "outputs": [
    {
     "name": "stdout",
     "output_type": "stream",
     "text": [
      "Before Cleaning Datatype:\t float64\n",
      "Unique value of Reviews:\t [4.1 3.9 4.7 4.5 4.3 4.4 3.8 4.2 4.6 3.2 4.  nan 4.8 4.9 3.6 3.7 3.3 3.4\n",
      " 3.5 3.1 5.  2.6 3.  1.9 2.5 2.8 2.7 1.  2.9 2.3 2.2 1.7 2.  1.8 2.4 1.6\n",
      " 2.1 1.4 1.5 1.2]\n",
      "No. of null entry in rating column: \t 1474\n",
      "No. of null entry in rating column after cleaning: \t 0\n",
      "float64\n"
     ]
    }
   ],
   "source": [
    "print('Before Cleaning Datatype:\\t',df.Rating.dtypes)\n",
    "print('Unique value of Reviews:\\t',df.Rating.unique())\n",
    "print('No. of null entry in rating column: \\t',len(df[df.Rating.isnull()]))\n",
    "df.Rating = df.Rating.fillna('0.0')\n",
    "df.Rating = df['Rating'].astype('float')\n",
    "mean = df.Rating.mean()\n",
    "df.Rating = df.Rating.replace(0.0,mean)\n",
    "print('No. of null entry in rating column after cleaning: \\t',len(df[df.Rating.isnull()]))\n",
    "print(df.Rating.dtypes)"
   ]
  },
  {
   "cell_type": "markdown",
   "metadata": {},
   "source": [
    "### Reviews Column Cleaning"
   ]
  },
  {
   "cell_type": "code",
   "execution_count": 26,
   "metadata": {},
   "outputs": [
    {
     "name": "stdout",
     "output_type": "stream",
     "text": [
      "Before Cleaning Datatype:\t object\n",
      "Unique value of Reviews:\t ['159' '967' '87510' ... '603' '1195' '398307']\n",
      "no. of null entries:\t 0\n",
      "After Cleaning Datatype:\t int32\n"
     ]
    }
   ],
   "source": [
    "print('Before Cleaning Datatype:\\t',df.Reviews.dtypes)\n",
    "print('Unique value of Reviews:\\t',df.Reviews.unique())\n",
    "print('no. of null entries:\\t',len(df[df.Reviews.isnull()]))\n",
    "unstructed = df[df.Reviews=='3.0M'].index\n",
    "df.Reviews.loc[unstructed] = df.Reviews.loc[unstructed].str.replace('.0M','000000')\n",
    "df.Reviews=df.Reviews.astype('int')\n",
    "print('After Cleaning Datatype:\\t',df.Reviews.dtypes)"
   ]
  },
  {
   "cell_type": "markdown",
   "metadata": {},
   "source": [
    "### Size Column Cleaning"
   ]
  },
  {
   "cell_type": "code",
   "execution_count": 27,
   "metadata": {},
   "outputs": [
    {
     "name": "stdout",
     "output_type": "stream",
     "text": [
      "Before Cleaning Datatype:\t object\n",
      "Unique value of Reviews:\t ['19M' '14M' '8.7M' '25M' '2.8M' '5.6M' '29M' '33M' '3.1M' '28M' '12M'\n",
      " '20M' '21M' '37M' '2.7M' '5.5M' '17M' '39M' '31M' '4.2M' '7.0M' '23M'\n",
      " '6.0M' '6.1M' '4.6M' '9.2M' '5.2M' '11M' '24M' 'Varies with device'\n",
      " '9.4M' '15M' '10M' '1.2M' '26M' '8.0M' '7.9M' '56M' '57M' '35M' '54M'\n",
      " '201k' '3.6M' '5.7M' '8.6M' '2.4M' '27M' '2.5M' '16M' '3.4M' '8.9M'\n",
      " '3.9M' '2.9M' '38M' '32M' '5.4M' '18M' '1.1M' '2.2M' '4.5M' '9.8M' '52M'\n",
      " '9.0M' '6.7M' '30M' '2.6M' '7.1M' '3.7M' '22M' '7.4M' '6.4M' '3.2M'\n",
      " '8.2M' '9.9M' '4.9M' '9.5M' '5.0M' '5.9M' '13M' '73M' '6.8M' '3.5M'\n",
      " '4.0M' '2.3M' '7.2M' '2.1M' '42M' '7.3M' '9.1M' '55M' '23k' '6.5M' '1.5M'\n",
      " '7.5M' '51M' '41M' '48M' '8.5M' '46M' '8.3M' '4.3M' '4.7M' '3.3M' '40M'\n",
      " '7.8M' '8.8M' '6.6M' '5.1M' '61M' '66M' '79k' '8.4M' '118k' '44M' '695k'\n",
      " '1.6M' '6.2M' '18k' '53M' '1.4M' '3.0M' '5.8M' '3.8M' '9.6M' '45M' '63M'\n",
      " '49M' '77M' '4.4M' '4.8M' '70M' '6.9M' '9.3M' '10.0M' '8.1M' '36M' '84M'\n",
      " '97M' '2.0M' '1.9M' '1.8M' '5.3M' '47M' '556k' '526k' '76M' '7.6M' '59M'\n",
      " '9.7M' '78M' '72M' '43M' '7.7M' '6.3M' '334k' '34M' '93M' '65M' '79M'\n",
      " '100M' '58M' '50M' '68M' '64M' '67M' '60M' '94M' '232k' '99M' '624k'\n",
      " '95M' '8.5k' '41k' '292k' '11k' '80M' '1.7M' '74M' '62M' '69M' '75M'\n",
      " '98M' '85M' '82M' '96M' '87M' '71M' '86M' '91M' '81M' '92M' '83M' '88M'\n",
      " '704k' '862k' '899k' '378k' '266k' '375k' '1.3M' '975k' '980k' '4.1M'\n",
      " '89M' '696k' '544k' '525k' '920k' '779k' '853k' '720k' '713k' '772k'\n",
      " '318k' '58k' '241k' '196k' '857k' '51k' '953k' '865k' '251k' '930k'\n",
      " '540k' '313k' '746k' '203k' '26k' '314k' '239k' '371k' '220k' '730k'\n",
      " '756k' '91k' '293k' '17k' '74k' '14k' '317k' '78k' '924k' '902k' '818k'\n",
      " '81k' '939k' '169k' '45k' '475k' '965k' '90M' '545k' '61k' '283k' '655k'\n",
      " '714k' '93k' '872k' '121k' '322k' '1.0M' '976k' '172k' '238k' '549k'\n",
      " '206k' '954k' '444k' '717k' '210k' '609k' '308k' '705k' '306k' '904k'\n",
      " '473k' '175k' '350k' '383k' '454k' '421k' '70k' '812k' '442k' '842k'\n",
      " '417k' '412k' '459k' '478k' '335k' '782k' '721k' '430k' '429k' '192k'\n",
      " '200k' '460k' '728k' '496k' '816k' '414k' '506k' '887k' '613k' '243k'\n",
      " '569k' '778k' '683k' '592k' '319k' '186k' '840k' '647k' '191k' '373k'\n",
      " '437k' '598k' '716k' '585k' '982k' '222k' '219k' '55k' '948k' '323k'\n",
      " '691k' '511k' '951k' '963k' '25k' '554k' '351k' '27k' '82k' '208k' '913k'\n",
      " '514k' '551k' '29k' '103k' '898k' '743k' '116k' '153k' '209k' '353k'\n",
      " '499k' '173k' '597k' '809k' '122k' '411k' '400k' '801k' '787k' '237k'\n",
      " '50k' '643k' '986k' '97k' '516k' '837k' '780k' '961k' '269k' '20k' '498k'\n",
      " '600k' '749k' '642k' '881k' '72k' '656k' '601k' '221k' '228k' '108k'\n",
      " '940k' '176k' '33k' '663k' '34k' '942k' '259k' '164k' '458k' '245k'\n",
      " '629k' '28k' '288k' '775k' '785k' '636k' '916k' '994k' '309k' '485k'\n",
      " '914k' '903k' '608k' '500k' '54k' '562k' '847k' '957k' '688k' '811k'\n",
      " '270k' '48k' '329k' '523k' '921k' '874k' '981k' '784k' '280k' '24k'\n",
      " '518k' '754k' '892k' '154k' '860k' '364k' '387k' '626k' '161k' '879k'\n",
      " '39k' '970k' '170k' '141k' '160k' '144k' '143k' '190k' '376k' '193k'\n",
      " '246k' '73k' '658k' '992k' '253k' '420k' '404k' '470k' '226k' '240k'\n",
      " '89k' '234k' '257k' '861k' '467k' '157k' '44k' '676k' '67k' '552k' '885k'\n",
      " '1020k' '582k' '619k']\n",
      "[19456.0 14336.0 8908.8 25600.0 2867.2 5734.4 29696.0 33792.0 3174.4\n",
      " 28672.0 12288.0 20480.0 21504.0 37888.0 2764.8 5632.0 17408.0 39936.0\n",
      " 31744.0 4300.8 7168.0 23552.0 6144.0 6246.4 4710.4 9420.8 5324.8 11264.0\n",
      " 24576.0 0.0 9625.6 15360.0 10240.0 1228.8 26624.0 8192.0 8089.6 57344.0\n",
      " 58368.0 35840.0 55296.0 201.0 3686.4 5836.8 8806.4 2457.6 27648.0 2560.0\n",
      " 16384.0 3481.6 9113.6 3993.6 2969.6 38912.0 32768.0 5529.6 18432.0 1126.4\n",
      " 2252.8 4608.0 10035.2 53248.0 9216.0 6860.8 30720.0 2662.4 7270.4 3788.8\n",
      " 22528.0 7577.6 6553.6 3276.8 8396.8 10137.6 5017.6 9728.0 5120.0 6041.6\n",
      " 13312.0 74752.0 6963.2 3584.0 4096.0 2355.2 7372.8 2150.4 43008.0 7475.2\n",
      " 9318.4 56320.0 23.0 6656.0 1536.0 7680.0 52224.0 41984.0 49152.0 8704.0\n",
      " 47104.0 8499.2 4403.2 4812.8 3379.2 40960.0 7987.2 9011.2 6758.4 5222.4\n",
      " 62464.0 67584.0 79.0 8601.6 118.0 45056.0 695.0 1638.4 6348.8 18.0\n",
      " 54272.0 1433.6 3072.0 5939.2 3891.2 9830.4 46080.0 64512.0 50176.0\n",
      " 78848.0 4505.6 4915.2 71680.0 7065.6 9523.2 8294.4 36864.0 86016.0\n",
      " 99328.0 2048.0 1945.6 1843.2 5427.2 48128.0 556.0 526.0 77824.0 7782.4\n",
      " 60416.0 9932.8 79872.0 73728.0 44032.0 7884.8 6451.2 334.0 34816.0\n",
      " 95232.0 66560.0 80896.0 102400.0 59392.0 51200.0 69632.0 65536.0 68608.0\n",
      " 61440.0 96256.0 232.0 101376.0 624.0 97280.0 8.5 41.0 292.0 11.0 81920.0\n",
      " 1740.8 75776.0 63488.0 70656.0 76800.0 100352.0 87040.0 83968.0 98304.0\n",
      " 89088.0 72704.0 88064.0 93184.0 82944.0 94208.0 84992.0 90112.0 704.0\n",
      " 862.0 899.0 378.0 266.0 375.0 1331.2 975.0 980.0 4198.4 91136.0 696.0\n",
      " 544.0 525.0 920.0 779.0 853.0 720.0 713.0 772.0 318.0 58.0 241.0 196.0\n",
      " 857.0 51.0 953.0 865.0 251.0 930.0 540.0 313.0 746.0 203.0 26.0 314.0\n",
      " 239.0 371.0 220.0 730.0 756.0 91.0 293.0 17.0 74.0 14.0 317.0 78.0 924.0\n",
      " 902.0 818.0 81.0 939.0 169.0 45.0 475.0 965.0 92160.0 545.0 61.0 283.0\n",
      " 655.0 714.0 93.0 872.0 121.0 322.0 1024.0 976.0 172.0 238.0 549.0 206.0\n",
      " 954.0 444.0 717.0 210.0 609.0 308.0 705.0 306.0 904.0 473.0 175.0 350.0\n",
      " 383.0 454.0 421.0 70.0 812.0 442.0 842.0 417.0 412.0 459.0 478.0 335.0\n",
      " 782.0 721.0 430.0 429.0 192.0 200.0 460.0 728.0 496.0 816.0 414.0 506.0\n",
      " 887.0 613.0 243.0 569.0 778.0 683.0 592.0 319.0 186.0 840.0 647.0 191.0\n",
      " 373.0 437.0 598.0 716.0 585.0 982.0 222.0 219.0 55.0 948.0 323.0 691.0\n",
      " 511.0 951.0 963.0 25.0 554.0 351.0 27.0 82.0 208.0 913.0 514.0 551.0 29.0\n",
      " 103.0 898.0 743.0 116.0 153.0 209.0 353.0 499.0 173.0 597.0 809.0 122.0\n",
      " 411.0 400.0 801.0 787.0 237.0 50.0 643.0 986.0 97.0 516.0 837.0 780.0\n",
      " 961.0 269.0 20.0 498.0 600.0 749.0 642.0 881.0 72.0 656.0 601.0 221.0\n",
      " 228.0 108.0 940.0 176.0 33.0 663.0 34.0 942.0 259.0 164.0 458.0 245.0\n",
      " 629.0 28.0 288.0 775.0 785.0 636.0 916.0 994.0 309.0 485.0 914.0 903.0\n",
      " 608.0 500.0 54.0 562.0 847.0 957.0 688.0 811.0 270.0 48.0 329.0 523.0\n",
      " 921.0 874.0 981.0 784.0 280.0 24.0 518.0 754.0 892.0 154.0 860.0 364.0\n",
      " 387.0 626.0 161.0 879.0 39.0 970.0 170.0 141.0 160.0 144.0 143.0 190.0\n",
      " 376.0 193.0 246.0 73.0 658.0 992.0 253.0 420.0 404.0 470.0 226.0 240.0\n",
      " 89.0 234.0 257.0 861.0 467.0 157.0 44.0 676.0 67.0 552.0 885.0 1020.0\n",
      " 582.0 619.0]\n",
      "After Cleaning Datatype:\t object\n"
     ]
    }
   ],
   "source": [
    "print('Before Cleaning Datatype:\\t',df.Size.dtypes)\n",
    "print('Unique value of Reviews:\\t',df.Size.unique())\n",
    "df.Size = df.Size.replace('Varies with device','0k')\n",
    "contain_m = df[df.Size.str.contains('M')]['Size']\n",
    "contain_m=contain_m.str.strip('M')\n",
    "contain_m=contain_m.astype('float')\n",
    "contain_m=contain_m*1024\n",
    "contain_k = df[~df.Size.str.contains('M')][\"Size\"]\n",
    "contain_k = contain_k.str.replace(',','').str.strip('k+').astype('float')\n",
    "df.loc[contain_m.index,'Size']=contain_m\n",
    "df.loc[contain_k.index,'Size']=contain_k\n",
    "print(df.Size.unique())\n",
    "print('After Cleaning Datatype:\\t',df.Size.dtypes)"
   ]
  },
  {
   "cell_type": "markdown",
   "metadata": {},
   "source": [
    "### Install Column Cleaning"
   ]
  },
  {
   "cell_type": "code",
   "execution_count": 28,
   "metadata": {},
   "outputs": [
    {
     "name": "stdout",
     "output_type": "stream",
     "text": [
      "object\n",
      "False\n",
      "['10,000+' '500,000+' '5,000,000+' '50,000,000+' '100,000+' '50,000+'\n",
      " '1,000,000+' '10,000,000+' '5,000+' '100,000,000+' '1,000,000,000+'\n",
      " '1,000+' '500,000,000+' '50+' '100+' '500+' '10+' '1+' '5+' '0+' '0']\n",
      "[     10000     500000    5000000   50000000     100000      50000\n",
      "    1000000   10000000       5000  100000000 1000000000       1000\n",
      "  500000000         50        100        500         10          1\n",
      "          5          0]\n",
      "int32\n"
     ]
    }
   ],
   "source": [
    "print(df.Installs.dtype)\n",
    "print(df.Installs.isnull().any())\n",
    "print(df.Installs.unique())\n",
    "df.Installs=df.Installs.str.replace('Free','0+')\n",
    "df.Installs=df.Installs.str.strip('+').str.replace(',','').astype('int')\n",
    "print(df.Installs.unique())\n",
    "print(df.Installs.dtypes)"
   ]
  },
  {
   "cell_type": "markdown",
   "metadata": {},
   "source": [
    "### Types Column Cleaning "
   ]
  },
  {
   "cell_type": "code",
   "execution_count": 29,
   "metadata": {},
   "outputs": [
    {
     "name": "stdout",
     "output_type": "stream",
     "text": [
      "object\n",
      "['Free' 'Paid' nan]\n",
      "1\n",
      "object\n",
      "['Free' 'Paid']\n",
      "0\n"
     ]
    }
   ],
   "source": [
    "print(df.Type.dtypes)\n",
    "print(df.Type.unique())\n",
    "print(len(df[df.Type.isnull()]))\n",
    "df.Type=df.Type.fillna('Free')\n",
    "unstructed=df.Type.str.contains('0').index\n",
    "df.Type.loc[unstructed]=df.Type.loc[unstructed].str.replace('0','Free')\n",
    "print(df.Type.dtypes)\n",
    "print(df.Type.unique())\n",
    "print(len(df[df.Type.isnull()]))\n"
   ]
  },
  {
   "cell_type": "markdown",
   "metadata": {},
   "source": [
    "### Price Column Cleaning"
   ]
  },
  {
   "cell_type": "code",
   "execution_count": 30,
   "metadata": {},
   "outputs": [
    {
     "name": "stdout",
     "output_type": "stream",
     "text": [
      "object\n",
      "['0' '$4.99 ' '$3.99 ' '$6.99 ' '$1.49 ' '$2.99 ' '$7.99 ' '$5.99 '\n",
      " '$3.49 ' '$1.99 ' '$9.99 ' '$7.49 ' '$0.99 ' '$9.00 ' '$5.49 ' '$10.00 '\n",
      " '$24.99 ' '$11.99 ' '$79.99 ' '$16.99 ' '$14.99 ' '$1.00 ' '$29.99 '\n",
      " '$12.99 ' '$2.49 ' '$10.99 ' '$1.50 ' '$19.99 ' '$15.99 ' '$33.99 '\n",
      " '$74.99 ' '$39.99 ' '$3.95 ' '$4.49 ' '$1.70 ' '$8.99 ' '$2.00 ' '$3.88 '\n",
      " '$25.99 ' '$399.99 ' '$17.99 ' '$400.00 ' '$3.02 ' '$1.76 ' '$4.84 '\n",
      " '$4.77 ' '$1.61 ' '$2.50 ' '$1.59 ' '$6.49 ' '$1.29 ' '$5.00 ' '$13.99 '\n",
      " '$299.99 ' '$379.99 ' '$37.99 ' '$18.99 ' '$389.99 ' '$19.90 ' '$8.49 '\n",
      " '$1.75 ' '$14.00 ' '$4.85 ' '$46.99 ' '$109.99 ' '$154.99 ' '$3.08 '\n",
      " '$2.59 ' '$4.80 ' '$1.96 ' '$19.40 ' '$3.90 ' '$4.59 ' '$15.46 ' '$3.04 '\n",
      " '$4.29 ' '$2.60 ' '$3.28 ' '$4.60 ' '$28.99 ' '$2.95 ' '$2.90 ' '$1.97 '\n",
      " '$200.00 ' '$89.99 ' '$2.56 ' '$30.99 ' '$3.61 ' '$394.99 ' '$1.26 '\n",
      " '$1.20 ' '$1.04 ']\n",
      "0\n",
      "float64\n",
      "[  0.     4.99   3.99   6.99   1.49   2.99   7.99   5.99   3.49   1.99\n",
      "   9.99   7.49   0.99   9.     5.49  10.    24.99  11.99  79.99  16.99\n",
      "  14.99   1.    29.99  12.99   2.49  10.99   1.5   19.99  15.99  33.99\n",
      "  74.99  39.99   3.95   4.49   1.7    8.99   2.     3.88  25.99 399.99\n",
      "  17.99 400.     3.02   1.76   4.84   4.77   1.61   2.5    1.59   6.49\n",
      "   1.29   5.    13.99 299.99 379.99  37.99  18.99 389.99  19.9    8.49\n",
      "   1.75  14.     4.85  46.99 109.99 154.99   3.08   2.59   4.8    1.96\n",
      "  19.4    3.9    4.59  15.46   3.04   4.29   2.6    3.28   4.6   28.99\n",
      "   2.95   2.9    1.97 200.    89.99   2.56  30.99   3.61 394.99   1.26\n",
      "   1.2    1.04]\n",
      "0\n"
     ]
    }
   ],
   "source": [
    "print(df.Price.dtypes)\n",
    "print(df.Price.unique())\n",
    "print(len(df[df.Price.isnull()]))\n",
    "df.Price=df.Price.str.strip('$')\n",
    "df.Price=df.Price.replace('Everyone','0').astype('float')\n",
    "print(df.Price.dtypes)\n",
    "print(df.Price.unique())\n",
    "print(len(df[df.Price.isnull()]))"
   ]
  },
  {
   "cell_type": "markdown",
   "metadata": {},
   "source": [
    "### Content Rating Column Cleaning"
   ]
  },
  {
   "cell_type": "code",
   "execution_count": 31,
   "metadata": {},
   "outputs": [
    {
     "name": "stdout",
     "output_type": "stream",
     "text": [
      "object\n",
      "['Everyone' 'Teen' 'Everyone 10+' 'Mature 17+' 'Adults only 18+' 'Unrated']\n",
      "0\n",
      "object\n",
      "['Everyone' 'Teen' 'Everyone 10+' 'Mature 17+' 'Adults only 18+' 'Unrated']\n",
      "0\n"
     ]
    }
   ],
   "source": [
    "print(df['Content Rating'].dtypes)\n",
    "print(df['Content Rating'].unique())\n",
    "print(len(df[df['Content Rating'].isnull()]))\n",
    "df['Content Rating'] = df['Content Rating'].fillna('Everyone')\n",
    "print(df['Content Rating'].dtypes)\n",
    "print(df['Content Rating'].unique())\n",
    "print(len(df[df['Content Rating'].isnull()]))"
   ]
  },
  {
   "cell_type": "markdown",
   "metadata": {},
   "source": [
    "### Last Updated Column Cleaning"
   ]
  },
  {
   "cell_type": "code",
   "execution_count": 32,
   "metadata": {},
   "outputs": [
    {
     "name": "stdout",
     "output_type": "stream",
     "text": [
      "object\n",
      "['7-Jan-18' '15-Jan-18' '1-Aug-18' ... '20-Jan-14' '16-Feb-14' '23-Mar-14']\n",
      "0\n",
      "datetime64[ns]\n"
     ]
    }
   ],
   "source": [
    "print(df['Last Updated'].dtypes)\n",
    "print(df['Last Updated'].unique())\n",
    "print(len(df[df['Last Updated'].isnull()]))\n",
    "df['Last Updated']=pd.to_datetime(df['Last Updated'])\n",
    "print(df['Last Updated'].dtypes)\n",
    "\n"
   ]
  },
  {
   "cell_type": "markdown",
   "metadata": {},
   "source": [
    "### Android Ver Column Cleaning"
   ]
  },
  {
   "cell_type": "code",
   "execution_count": 33,
   "metadata": {},
   "outputs": [
    {
     "name": "stdout",
     "output_type": "stream",
     "text": [
      "10840\n"
     ]
    },
    {
     "data": {
      "text/plain": [
       "array(['4.0.3', '4.2', '4.4', '2.3', '3.0', '4.1', '4.0', '2.3.3',\n",
       "       'Varies with device', '2.2', '5.0', '6.0', '1.6', '1.5', '2.1',\n",
       "       '7.0', '5.1', '4.3', '2.0', '3.2', '7.1', '8.0', '3.1', '2.0.1',\n",
       "       '1.0'], dtype=object)"
      ]
     },
     "execution_count": 33,
     "metadata": {},
     "output_type": "execute_result"
    }
   ],
   "source": [
    "print(len(df['Android Ver']))\n",
    "x=df[\"Android Ver\"].str.strip(' and upW')\n",
    "# print(x.unique())\n",
    "y=x[x.isnull()].index\n",
    "x.loc[y]='Varies with device'\n",
    "z=x[x.str.contains('-')].index\n",
    "x.loc[z]='Varies with device'\n",
    "df['Android Ver']=x\n",
    "df['Android Ver'].unique()"
   ]
  },
  {
   "cell_type": "code",
   "execution_count": 34,
   "metadata": {},
   "outputs": [
    {
     "name": "stdout",
     "output_type": "stream",
     "text": [
      "<class 'pandas.core.frame.DataFrame'>\n",
      "Int64Index: 10840 entries, 0 to 10840\n",
      "Data columns (total 13 columns):\n",
      "App               10840 non-null object\n",
      "Category          10840 non-null object\n",
      "Rating            10840 non-null float64\n",
      "Reviews           10840 non-null int32\n",
      "Size              10840 non-null object\n",
      "Installs          10840 non-null int32\n",
      "Type              10840 non-null object\n",
      "Price             10840 non-null float64\n",
      "Content Rating    10840 non-null object\n",
      "Genres            10840 non-null object\n",
      "Last Updated      10840 non-null datetime64[ns]\n",
      "Current Ver       10832 non-null object\n",
      "Android Ver       10840 non-null object\n",
      "dtypes: datetime64[ns](1), float64(2), int32(2), object(8)\n",
      "memory usage: 1.4+ MB\n"
     ]
    }
   ],
   "source": [
    "df.info()"
   ]
  },
  {
   "cell_type": "code",
   "execution_count": 35,
   "metadata": {},
   "outputs": [
    {
     "data": {
      "text/plain": [
       "<matplotlib.axes._subplots.AxesSubplot at 0x1cb19f8ea08>"
      ]
     },
     "execution_count": 35,
     "metadata": {},
     "output_type": "execute_result"
    },
    {
     "data": {
      "image/png": "[encoded data removed]",
      "text/plain": [
       "<Figure size 1800x720 with 2 Axes>"
      ]
     },
     "metadata": {
      "needs_background": "light"
     },
     "output_type": "display_data"
    }
   ],
   "source": [
    "msno.matrix(df)  "
   ]
  },
  {
   "cell_type": "code",
   "execution_count": 38,
   "metadata": {},
   "outputs": [
    {
     "data": {
      "text/html": [
       "<div>\n",
       "<style scoped>\n",
       "    .dataframe tbody tr th:only-of-type {\n",
       "        vertical-align: middle;\n",
       "    }\n",
       "\n",
       "    .dataframe tbody tr th {\n",
       "        vertical-align: top;\n",
       "    }\n",
       "\n",
       "    .dataframe thead th {\n",
       "        text-align: right;\n",
       "    }\n",
       "</style>\n",
       "<table border=\"1\" class=\"dataframe\">\n",
       "  <thead>\n",
       "    <tr style=\"text-align: right;\">\n",
       "      <th></th>\n",
       "      <th>App</th>\n",
       "      <th>Category</th>\n",
       "      <th>Rating</th>\n",
       "      <th>Reviews</th>\n",
       "      <th>Size</th>\n",
       "      <th>Installs</th>\n",
       "      <th>Type</th>\n",
       "      <th>Price</th>\n",
       "      <th>Content Rating</th>\n",
       "      <th>Genres</th>\n",
       "      <th>Last Updated</th>\n",
       "      <th>Current Ver</th>\n",
       "      <th>Android Ver</th>\n",
       "    </tr>\n",
       "  </thead>\n",
       "  <tbody>\n",
       "    <tr>\n",
       "      <td>count</td>\n",
       "      <td>10840</td>\n",
       "      <td>10840</td>\n",
       "      <td>10840.000000</td>\n",
       "      <td>1.084000e+04</td>\n",
       "      <td>10840.0</td>\n",
       "      <td>1.084000e+04</td>\n",
       "      <td>10840</td>\n",
       "      <td>10840.000000</td>\n",
       "      <td>10840</td>\n",
       "      <td>10840</td>\n",
       "      <td>10840</td>\n",
       "      <td>10832</td>\n",
       "      <td>10840</td>\n",
       "    </tr>\n",
       "    <tr>\n",
       "      <td>unique</td>\n",
       "      <td>9659</td>\n",
       "      <td>33</td>\n",
       "      <td>NaN</td>\n",
       "      <td>NaN</td>\n",
       "      <td>460.0</td>\n",
       "      <td>NaN</td>\n",
       "      <td>2</td>\n",
       "      <td>NaN</td>\n",
       "      <td>6</td>\n",
       "      <td>119</td>\n",
       "      <td>1377</td>\n",
       "      <td>2783</td>\n",
       "      <td>25</td>\n",
       "    </tr>\n",
       "    <tr>\n",
       "      <td>top</td>\n",
       "      <td>ROBLOX</td>\n",
       "      <td>FAMILY</td>\n",
       "      <td>NaN</td>\n",
       "      <td>NaN</td>\n",
       "      <td>0.0</td>\n",
       "      <td>NaN</td>\n",
       "      <td>Free</td>\n",
       "      <td>NaN</td>\n",
       "      <td>Everyone</td>\n",
       "      <td>Tools</td>\n",
       "      <td>2018-08-03 00:00:00</td>\n",
       "      <td>Varies with device</td>\n",
       "      <td>4.1</td>\n",
       "    </tr>\n",
       "    <tr>\n",
       "      <td>freq</td>\n",
       "      <td>9</td>\n",
       "      <td>1972</td>\n",
       "      <td>NaN</td>\n",
       "      <td>NaN</td>\n",
       "      <td>1695.0</td>\n",
       "      <td>NaN</td>\n",
       "      <td>10040</td>\n",
       "      <td>NaN</td>\n",
       "      <td>8714</td>\n",
       "      <td>842</td>\n",
       "      <td>326</td>\n",
       "      <td>1459</td>\n",
       "      <td>2451</td>\n",
       "    </tr>\n",
       "    <tr>\n",
       "      <td>first</td>\n",
       "      <td>NaN</td>\n",
       "      <td>NaN</td>\n",
       "      <td>NaN</td>\n",
       "      <td>NaN</td>\n",
       "      <td>NaN</td>\n",
       "      <td>NaN</td>\n",
       "      <td>NaN</td>\n",
       "      <td>NaN</td>\n",
       "      <td>NaN</td>\n",
       "      <td>NaN</td>\n",
       "      <td>2010-05-21 00:00:00</td>\n",
       "      <td>NaN</td>\n",
       "      <td>NaN</td>\n",
       "    </tr>\n",
       "    <tr>\n",
       "      <td>last</td>\n",
       "      <td>NaN</td>\n",
       "      <td>NaN</td>\n",
       "      <td>NaN</td>\n",
       "      <td>NaN</td>\n",
       "      <td>NaN</td>\n",
       "      <td>NaN</td>\n",
       "      <td>NaN</td>\n",
       "      <td>NaN</td>\n",
       "      <td>NaN</td>\n",
       "      <td>NaN</td>\n",
       "      <td>2018-08-08 00:00:00</td>\n",
       "      <td>NaN</td>\n",
       "      <td>NaN</td>\n",
       "    </tr>\n",
       "    <tr>\n",
       "      <td>mean</td>\n",
       "      <td>NaN</td>\n",
       "      <td>NaN</td>\n",
       "      <td>4.114252</td>\n",
       "      <td>4.441529e+05</td>\n",
       "      <td>NaN</td>\n",
       "      <td>1.546434e+07</td>\n",
       "      <td>NaN</td>\n",
       "      <td>1.027368</td>\n",
       "      <td>NaN</td>\n",
       "      <td>NaN</td>\n",
       "      <td>NaN</td>\n",
       "      <td>NaN</td>\n",
       "      <td>NaN</td>\n",
       "    </tr>\n",
       "    <tr>\n",
       "      <td>std</td>\n",
       "      <td>NaN</td>\n",
       "      <td>NaN</td>\n",
       "      <td>0.517228</td>\n",
       "      <td>2.927761e+06</td>\n",
       "      <td>NaN</td>\n",
       "      <td>8.502936e+07</td>\n",
       "      <td>NaN</td>\n",
       "      <td>15.949703</td>\n",
       "      <td>NaN</td>\n",
       "      <td>NaN</td>\n",
       "      <td>NaN</td>\n",
       "      <td>NaN</td>\n",
       "      <td>NaN</td>\n",
       "    </tr>\n",
       "    <tr>\n",
       "      <td>min</td>\n",
       "      <td>NaN</td>\n",
       "      <td>NaN</td>\n",
       "      <td>1.000000</td>\n",
       "      <td>0.000000e+00</td>\n",
       "      <td>NaN</td>\n",
       "      <td>0.000000e+00</td>\n",
       "      <td>NaN</td>\n",
       "      <td>0.000000</td>\n",
       "      <td>NaN</td>\n",
       "      <td>NaN</td>\n",
       "      <td>NaN</td>\n",
       "      <td>NaN</td>\n",
       "      <td>NaN</td>\n",
       "    </tr>\n",
       "    <tr>\n",
       "      <td>25%</td>\n",
       "      <td>NaN</td>\n",
       "      <td>NaN</td>\n",
       "      <td>3.700000</td>\n",
       "      <td>3.800000e+01</td>\n",
       "      <td>NaN</td>\n",
       "      <td>1.000000e+03</td>\n",
       "      <td>NaN</td>\n",
       "      <td>0.000000</td>\n",
       "      <td>NaN</td>\n",
       "      <td>NaN</td>\n",
       "      <td>NaN</td>\n",
       "      <td>NaN</td>\n",
       "      <td>NaN</td>\n",
       "    </tr>\n",
       "    <tr>\n",
       "      <td>50%</td>\n",
       "      <td>NaN</td>\n",
       "      <td>NaN</td>\n",
       "      <td>4.200000</td>\n",
       "      <td>2.094000e+03</td>\n",
       "      <td>NaN</td>\n",
       "      <td>1.000000e+05</td>\n",
       "      <td>NaN</td>\n",
       "      <td>0.000000</td>\n",
       "      <td>NaN</td>\n",
       "      <td>NaN</td>\n",
       "      <td>NaN</td>\n",
       "      <td>NaN</td>\n",
       "      <td>NaN</td>\n",
       "    </tr>\n",
       "    <tr>\n",
       "      <td>75%</td>\n",
       "      <td>NaN</td>\n",
       "      <td>NaN</td>\n",
       "      <td>4.500000</td>\n",
       "      <td>5.477550e+04</td>\n",
       "      <td>NaN</td>\n",
       "      <td>5.000000e+06</td>\n",
       "      <td>NaN</td>\n",
       "      <td>0.000000</td>\n",
       "      <td>NaN</td>\n",
       "      <td>NaN</td>\n",
       "      <td>NaN</td>\n",
       "      <td>NaN</td>\n",
       "      <td>NaN</td>\n",
       "    </tr>\n",
       "    <tr>\n",
       "      <td>max</td>\n",
       "      <td>NaN</td>\n",
       "      <td>NaN</td>\n",
       "      <td>5.000000</td>\n",
       "      <td>7.815831e+07</td>\n",
       "      <td>NaN</td>\n",
       "      <td>1.000000e+09</td>\n",
       "      <td>NaN</td>\n",
       "      <td>400.000000</td>\n",
       "      <td>NaN</td>\n",
       "      <td>NaN</td>\n",
       "      <td>NaN</td>\n",
       "      <td>NaN</td>\n",
       "      <td>NaN</td>\n",
       "    </tr>\n",
       "  </tbody>\n",
       "</table>\n",
       "</div>"
      ],
      "text/plain": [
       "           App Category        Rating       Reviews     Size      Installs  \\\n",
       "count    10840    10840  10840.000000  1.084000e+04  10840.0  1.084000e+04   \n",
       "unique    9659       33           NaN           NaN    460.0           NaN   \n",
       "top     ROBLOX   FAMILY           NaN           NaN      0.0           NaN   \n",
       "freq         9     1972           NaN           NaN   1695.0           NaN   \n",
       "first      NaN      NaN           NaN           NaN      NaN           NaN   \n",
       "last       NaN      NaN           NaN           NaN      NaN           NaN   \n",
       "mean       NaN      NaN      4.114252  4.441529e+05      NaN  1.546434e+07   \n",
       "std        NaN      NaN      0.517228  2.927761e+06      NaN  8.502936e+07   \n",
       "min        NaN      NaN      1.000000  0.000000e+00      NaN  0.000000e+00   \n",
       "25%        NaN      NaN      3.700000  3.800000e+01      NaN  1.000000e+03   \n",
       "50%        NaN      NaN      4.200000  2.094000e+03      NaN  1.000000e+05   \n",
       "75%        NaN      NaN      4.500000  5.477550e+04      NaN  5.000000e+06   \n",
       "max        NaN      NaN      5.000000  7.815831e+07      NaN  1.000000e+09   \n",
       "\n",
       "         Type         Price Content Rating Genres         Last Updated  \\\n",
       "count   10840  10840.000000          10840  10840                10840   \n",
       "unique      2           NaN              6    119                 1377   \n",
       "top      Free           NaN       Everyone  Tools  2018-08-03 00:00:00   \n",
       "freq    10040           NaN           8714    842                  326   \n",
       "first     NaN           NaN            NaN    NaN  2010-05-21 00:00:00   \n",
       "last      NaN           NaN            NaN    NaN  2018-08-08 00:00:00   \n",
       "mean      NaN      1.027368            NaN    NaN                  NaN   \n",
       "std       NaN     15.949703            NaN    NaN                  NaN   \n",
       "min       NaN      0.000000            NaN    NaN                  NaN   \n",
       "25%       NaN      0.000000            NaN    NaN                  NaN   \n",
       "50%       NaN      0.000000            NaN    NaN                  NaN   \n",
       "75%       NaN      0.000000            NaN    NaN                  NaN   \n",
       "max       NaN    400.000000            NaN    NaN                  NaN   \n",
       "\n",
       "               Current Ver Android Ver  \n",
       "count                10832       10840  \n",
       "unique                2783          25  \n",
       "top     Varies with device         4.1  \n",
       "freq                  1459        2451  \n",
       "first                  NaN         NaN  \n",
       "last                   NaN         NaN  \n",
       "mean                   NaN         NaN  \n",
       "std                    NaN         NaN  \n",
       "min                    NaN         NaN  \n",
       "25%                    NaN         NaN  \n",
       "50%                    NaN         NaN  \n",
       "75%                    NaN         NaN  \n",
       "max                    NaN         NaN  "
      ]
     },
     "execution_count": 38,
     "metadata": {},
     "output_type": "execute_result"
    }
   ],
   "source": [
    "df.describe(include='all')"
   ]
  },
  {
   "cell_type": "code",
   "execution_count": 40,
   "metadata": {},
   "outputs": [],
   "source": [
    "df.to_csv('GPS Cleaned.csv')"
   ]
  },
  {
   "cell_type": "markdown",
   "metadata": {},
   "source": [
    "### Highest paid app"
   ]
  },
  {
   "cell_type": "code",
   "execution_count": null,
   "metadata": {},
   "outputs": [],
   "source": [
    "df.Price.unique()\n",
    "df.Price=df.Price.replace('Everyone','0')\n",
    "#df['Price']= df['Price'].apply(lambda x :x.replace('$','') if '$' in x else x)\n",
    "df['Price']=df.Price.astype(float)\n",
    "df.Price.unique()\n",
    "df[df.Price == df.Price.max()]['App'].tolist()\n"
   ]
  },
  {
   "cell_type": "markdown",
   "metadata": {},
   "source": [
    "### Lowest paid app"
   ]
  },
  {
   "cell_type": "code",
   "execution_count": null,
   "metadata": {},
   "outputs": [],
   "source": [
    "#df[df.Price==df.Price.min()]['App'].tolist()\n",
    "df.Price.unique()\n",
    "df[df.Price==1.0]['App'].tolist()"
   ]
  },
  {
   "cell_type": "markdown",
   "metadata": {},
   "source": [
    "### App Having Highest Reviews "
   ]
  },
  {
   "cell_type": "code",
   "execution_count": null,
   "metadata": {},
   "outputs": [],
   "source": [
    "df.Reviews.unique()\n",
    "df['Reviews']=pd.to_numeric(df['Reviews'])\n",
    "df[df['Reviews'] == df['Reviews'].max()]['App'].tolist()"
   ]
  },
  {
   "cell_type": "code",
   "execution_count": null,
   "metadata": {},
   "outputs": [],
   "source": [
    "ds=pd.read_csv('googleplaystore.csv')\n",
    "ds.Installs=ds.Installs.replace(to_replace=['Free','0'],value='0+')\n",
    "\n",
    "#ds[ds.Installs == ds['Installs'].max()]['App']"
   ]
  },
  {
   "cell_type": "markdown",
   "metadata": {},
   "source": [
    "### Size vs Price"
   ]
  },
  {
   "cell_type": "code",
   "execution_count": null,
   "metadata": {},
   "outputs": [],
   "source": [
    "df.Price=df.Price.replace('Everyone','0')\n",
    "df.Price=df.Price.apply(lambda x: float(x.strip('$ ')))\n",
    "print(df.Price.unique())"
   ]
  },
  {
   "cell_type": "code",
   "execution_count": null,
   "metadata": {},
   "outputs": [],
   "source": [
    "def convert_size(x):\n",
    "    if 'M' in x:\n",
    "        x=x.str.replace('M','')\n",
    "        x=x*1024\n",
    "    else:\n",
    "        x=x.str.strip('k+').replace(',','')"
   ]
  },
  {
   "cell_type": "code",
   "execution_count": null,
   "metadata": {},
   "outputs": [],
   "source": [
    "\n",
    "df.Size=df.Size.replace('Varies with device','0k')        \n",
    "df.Size = df.apply(convert_size) \n",
    "df.Size.unique()\n",
    "#df.Price.unique()"
   ]
  },
  {
   "cell_type": "code",
   "execution_count": null,
   "metadata": {},
   "outputs": [],
   "source": [
    "df=pd.read_csv('googleplaystore.csv')\n",
    "contain_m = df[df.Size.str.contains('M')]['Size']\n",
    "contain_m=contain_m.str.strip('M')\n",
    "contain_m=contain_m.astype('float')\n",
    "contain_m=contain_m*1024\n",
    "#print(contain_m.index)"
   ]
  },
  {
   "cell_type": "code",
   "execution_count": null,
   "metadata": {},
   "outputs": [],
   "source": [
    "df=pd.read_csv('googleplaystore.csv')\n",
    "df.Size = df.Size.replace('Varies with device','0k')\n",
    "contain_k = df[~df.Size.str.contains('M')][\"Size\"]\n",
    "contain_k = contain_k.str.replace(',','').str.strip('k+').astype('float')\n",
    "#print(contain_k.index)"
   ]
  },
  {
   "cell_type": "code",
   "execution_count": null,
   "metadata": {},
   "outputs": [],
   "source": [
    "df.loc[contain_m.index,'Size']=contain_m\n",
    "df.loc[contain_k.index,'Size']=contain_k\n",
    "Size=df.Size.loc[df.Price>0]"
   ]
  },
  {
   "cell_type": "code",
   "execution_count": null,
   "metadata": {},
   "outputs": [],
   "source": [
    "df=pd.read_csv('googleplaystore.csv')\n",
    "df.Price=df.Price.str.strip('$')\n",
    "df.Price=df.Price.replace('Everyone','0').astype('float')\n",
    "Price=df.Price.loc[df.Price>0]\n",
    "Price.count()"
   ]
  },
  {
   "cell_type": "code",
   "execution_count": null,
   "metadata": {},
   "outputs": [],
   "source": [
    "plt.scatter(Size,Price)\n",
    "plt.grid()\n",
    "plt.xlabel('Size (in kb)')\n",
    "plt.ylabel('Price (in $)')\n",
    "plt.show()\n"
   ]
  },
  {
   "cell_type": "markdown",
   "metadata": {},
   "source": [
    "## Category vs Rating"
   ]
  },
  {
   "cell_type": "markdown",
   "metadata": {},
   "source": [
    "**Cleaning Data**"
   ]
  },
  {
   "cell_type": "code",
   "execution_count": null,
   "metadata": {},
   "outputs": [],
   "source": [
    "df=pd.read_csv('googleplaystore.csv',usecols=['Category','Rating'])\n",
    "df.Rating=df.Rating.fillna(0)\n",
    "print(df.Rating.unique())\n",
    "df=df.drop(df[df.Category=='1.9'].index)\n",
    "print(df.Category.unique())"
   ]
  },
  {
   "cell_type": "markdown",
   "metadata": {},
   "source": [
    "### Statistical Relationship "
   ]
  },
  {
   "cell_type": "code",
   "execution_count": null,
   "metadata": {
    "scrolled": true
   },
   "outputs": [],
   "source": [
    "df=df.groupby('Category').mean()\n",
    "df=df.sort_values(by='Rating')\n",
    "print('Maximun Rating Category :',df[df.Rating==df.Rating.max()].index.tolist())\n",
    "print('Minimum Rating Category :',df[df.Rating==df.Rating.min()].index.tolist())"
   ]
  },
  {
   "cell_type": "markdown",
   "metadata": {},
   "source": [
    "### Visualization "
   ]
  },
  {
   "cell_type": "code",
   "execution_count": null,
   "metadata": {},
   "outputs": [],
   "source": []
  },
  {
   "cell_type": "code",
   "execution_count": null,
   "metadata": {},
   "outputs": [],
   "source": []
  }
 ],
 "metadata": {
  "kernelspec": {
   "display_name": "Python 3",
   "language": "python",
   "name": "python3"
  },
  "language_info": {
   "codemirror_mode": {
    "name": "ipython",
    "version": 3
   },
   "file_extension": ".py",
   "mimetype": "text/x-python",
   "name": "python",
   "nbconvert_exporter": "python",
   "pygments_lexer": "ipython3",
   "version": "3.7.4"
  }
 },
 "nbformat": 4,
 "nbformat_minor": 2
}
